{
 "cells": [
  {
   "cell_type": "code",
   "execution_count": 1,
   "metadata": {},
   "outputs": [],
   "source": [
    "import numpy as np\n",
    "import pandas as pd\n",
    "import warnings\n",
    "\n",
    "%matplotlib inline\n",
    "warnings.filterwarnings(\"ignore\")"
   ]
  },
  {
   "cell_type": "code",
   "execution_count": 2,
   "metadata": {},
   "outputs": [
    {
     "name": "stdout",
     "output_type": "stream",
     "text": [
      "'final (3rd copy).ipynb'       final.ipynb\t   Untitled5.ipynb\r\n",
      "'final (another copy).ipynb'   idea1+idea2.ipynb   Untitled.ipynb\r\n",
      "'final (copy).ipynb'\t       Untitled1.ipynb\t   wdbc.data\r\n"
     ]
    }
   ],
   "source": [
    "!ls"
   ]
  },
  {
   "cell_type": "code",
   "execution_count": 3,
   "metadata": {},
   "outputs": [],
   "source": [
    "df = pd.read_csv('wdbc.data', header = None)"
   ]
  },
  {
   "cell_type": "code",
   "execution_count": 4,
   "metadata": {},
   "outputs": [
    {
     "data": {
      "text/html": [
       "<div>\n",
       "<style scoped>\n",
       "    .dataframe tbody tr th:only-of-type {\n",
       "        vertical-align: middle;\n",
       "    }\n",
       "\n",
       "    .dataframe tbody tr th {\n",
       "        vertical-align: top;\n",
       "    }\n",
       "\n",
       "    .dataframe thead th {\n",
       "        text-align: right;\n",
       "    }\n",
       "</style>\n",
       "<table border=\"1\" class=\"dataframe\">\n",
       "  <thead>\n",
       "    <tr style=\"text-align: right;\">\n",
       "      <th></th>\n",
       "      <th>0</th>\n",
       "      <th>1</th>\n",
       "      <th>2</th>\n",
       "      <th>3</th>\n",
       "      <th>4</th>\n",
       "      <th>5</th>\n",
       "      <th>6</th>\n",
       "      <th>7</th>\n",
       "      <th>8</th>\n",
       "      <th>9</th>\n",
       "      <th>...</th>\n",
       "      <th>22</th>\n",
       "      <th>23</th>\n",
       "      <th>24</th>\n",
       "      <th>25</th>\n",
       "      <th>26</th>\n",
       "      <th>27</th>\n",
       "      <th>28</th>\n",
       "      <th>29</th>\n",
       "      <th>30</th>\n",
       "      <th>31</th>\n",
       "    </tr>\n",
       "  </thead>\n",
       "  <tbody>\n",
       "    <tr>\n",
       "      <th>0</th>\n",
       "      <td>842302</td>\n",
       "      <td>M</td>\n",
       "      <td>17.99</td>\n",
       "      <td>10.38</td>\n",
       "      <td>122.80</td>\n",
       "      <td>1001.0</td>\n",
       "      <td>0.11840</td>\n",
       "      <td>0.27760</td>\n",
       "      <td>0.3001</td>\n",
       "      <td>0.14710</td>\n",
       "      <td>...</td>\n",
       "      <td>25.38</td>\n",
       "      <td>17.33</td>\n",
       "      <td>184.60</td>\n",
       "      <td>2019.0</td>\n",
       "      <td>0.1622</td>\n",
       "      <td>0.6656</td>\n",
       "      <td>0.7119</td>\n",
       "      <td>0.2654</td>\n",
       "      <td>0.4601</td>\n",
       "      <td>0.11890</td>\n",
       "    </tr>\n",
       "    <tr>\n",
       "      <th>1</th>\n",
       "      <td>842517</td>\n",
       "      <td>M</td>\n",
       "      <td>20.57</td>\n",
       "      <td>17.77</td>\n",
       "      <td>132.90</td>\n",
       "      <td>1326.0</td>\n",
       "      <td>0.08474</td>\n",
       "      <td>0.07864</td>\n",
       "      <td>0.0869</td>\n",
       "      <td>0.07017</td>\n",
       "      <td>...</td>\n",
       "      <td>24.99</td>\n",
       "      <td>23.41</td>\n",
       "      <td>158.80</td>\n",
       "      <td>1956.0</td>\n",
       "      <td>0.1238</td>\n",
       "      <td>0.1866</td>\n",
       "      <td>0.2416</td>\n",
       "      <td>0.1860</td>\n",
       "      <td>0.2750</td>\n",
       "      <td>0.08902</td>\n",
       "    </tr>\n",
       "    <tr>\n",
       "      <th>2</th>\n",
       "      <td>84300903</td>\n",
       "      <td>M</td>\n",
       "      <td>19.69</td>\n",
       "      <td>21.25</td>\n",
       "      <td>130.00</td>\n",
       "      <td>1203.0</td>\n",
       "      <td>0.10960</td>\n",
       "      <td>0.15990</td>\n",
       "      <td>0.1974</td>\n",
       "      <td>0.12790</td>\n",
       "      <td>...</td>\n",
       "      <td>23.57</td>\n",
       "      <td>25.53</td>\n",
       "      <td>152.50</td>\n",
       "      <td>1709.0</td>\n",
       "      <td>0.1444</td>\n",
       "      <td>0.4245</td>\n",
       "      <td>0.4504</td>\n",
       "      <td>0.2430</td>\n",
       "      <td>0.3613</td>\n",
       "      <td>0.08758</td>\n",
       "    </tr>\n",
       "    <tr>\n",
       "      <th>3</th>\n",
       "      <td>84348301</td>\n",
       "      <td>M</td>\n",
       "      <td>11.42</td>\n",
       "      <td>20.38</td>\n",
       "      <td>77.58</td>\n",
       "      <td>386.1</td>\n",
       "      <td>0.14250</td>\n",
       "      <td>0.28390</td>\n",
       "      <td>0.2414</td>\n",
       "      <td>0.10520</td>\n",
       "      <td>...</td>\n",
       "      <td>14.91</td>\n",
       "      <td>26.50</td>\n",
       "      <td>98.87</td>\n",
       "      <td>567.7</td>\n",
       "      <td>0.2098</td>\n",
       "      <td>0.8663</td>\n",
       "      <td>0.6869</td>\n",
       "      <td>0.2575</td>\n",
       "      <td>0.6638</td>\n",
       "      <td>0.17300</td>\n",
       "    </tr>\n",
       "    <tr>\n",
       "      <th>4</th>\n",
       "      <td>84358402</td>\n",
       "      <td>M</td>\n",
       "      <td>20.29</td>\n",
       "      <td>14.34</td>\n",
       "      <td>135.10</td>\n",
       "      <td>1297.0</td>\n",
       "      <td>0.10030</td>\n",
       "      <td>0.13280</td>\n",
       "      <td>0.1980</td>\n",
       "      <td>0.10430</td>\n",
       "      <td>...</td>\n",
       "      <td>22.54</td>\n",
       "      <td>16.67</td>\n",
       "      <td>152.20</td>\n",
       "      <td>1575.0</td>\n",
       "      <td>0.1374</td>\n",
       "      <td>0.2050</td>\n",
       "      <td>0.4000</td>\n",
       "      <td>0.1625</td>\n",
       "      <td>0.2364</td>\n",
       "      <td>0.07678</td>\n",
       "    </tr>\n",
       "  </tbody>\n",
       "</table>\n",
       "<p>5 rows × 32 columns</p>\n",
       "</div>"
      ],
      "text/plain": [
       "         0  1      2      3       4       5        6        7       8   \\\n",
       "0    842302  M  17.99  10.38  122.80  1001.0  0.11840  0.27760  0.3001   \n",
       "1    842517  M  20.57  17.77  132.90  1326.0  0.08474  0.07864  0.0869   \n",
       "2  84300903  M  19.69  21.25  130.00  1203.0  0.10960  0.15990  0.1974   \n",
       "3  84348301  M  11.42  20.38   77.58   386.1  0.14250  0.28390  0.2414   \n",
       "4  84358402  M  20.29  14.34  135.10  1297.0  0.10030  0.13280  0.1980   \n",
       "\n",
       "        9    ...        22     23      24      25      26      27      28  \\\n",
       "0  0.14710   ...     25.38  17.33  184.60  2019.0  0.1622  0.6656  0.7119   \n",
       "1  0.07017   ...     24.99  23.41  158.80  1956.0  0.1238  0.1866  0.2416   \n",
       "2  0.12790   ...     23.57  25.53  152.50  1709.0  0.1444  0.4245  0.4504   \n",
       "3  0.10520   ...     14.91  26.50   98.87   567.7  0.2098  0.8663  0.6869   \n",
       "4  0.10430   ...     22.54  16.67  152.20  1575.0  0.1374  0.2050  0.4000   \n",
       "\n",
       "       29      30       31  \n",
       "0  0.2654  0.4601  0.11890  \n",
       "1  0.1860  0.2750  0.08902  \n",
       "2  0.2430  0.3613  0.08758  \n",
       "3  0.2575  0.6638  0.17300  \n",
       "4  0.1625  0.2364  0.07678  \n",
       "\n",
       "[5 rows x 32 columns]"
      ]
     },
     "execution_count": 4,
     "metadata": {},
     "output_type": "execute_result"
    }
   ],
   "source": [
    "df.head()"
   ]
  },
  {
   "cell_type": "code",
   "execution_count": 5,
   "metadata": {},
   "outputs": [
    {
     "data": {
      "text/plain": [
       "B    357\n",
       "M    212\n",
       "Name: 1, dtype: int64"
      ]
     },
     "execution_count": 5,
     "metadata": {},
     "output_type": "execute_result"
    }
   ],
   "source": [
    "df[1].value_counts()"
   ]
  },
  {
   "cell_type": "code",
   "execution_count": 6,
   "metadata": {},
   "outputs": [
    {
     "data": {
      "text/html": [
       "<div>\n",
       "<style scoped>\n",
       "    .dataframe tbody tr th:only-of-type {\n",
       "        vertical-align: middle;\n",
       "    }\n",
       "\n",
       "    .dataframe tbody tr th {\n",
       "        vertical-align: top;\n",
       "    }\n",
       "\n",
       "    .dataframe thead th {\n",
       "        text-align: right;\n",
       "    }\n",
       "</style>\n",
       "<table border=\"1\" class=\"dataframe\">\n",
       "  <thead>\n",
       "    <tr style=\"text-align: right;\">\n",
       "      <th></th>\n",
       "      <th>2</th>\n",
       "      <th>3</th>\n",
       "      <th>4</th>\n",
       "      <th>5</th>\n",
       "      <th>6</th>\n",
       "      <th>7</th>\n",
       "      <th>8</th>\n",
       "      <th>9</th>\n",
       "      <th>10</th>\n",
       "      <th>11</th>\n",
       "      <th>...</th>\n",
       "      <th>22</th>\n",
       "      <th>23</th>\n",
       "      <th>24</th>\n",
       "      <th>25</th>\n",
       "      <th>26</th>\n",
       "      <th>27</th>\n",
       "      <th>28</th>\n",
       "      <th>29</th>\n",
       "      <th>30</th>\n",
       "      <th>31</th>\n",
       "    </tr>\n",
       "  </thead>\n",
       "  <tbody>\n",
       "    <tr>\n",
       "      <th>0</th>\n",
       "      <td>17.99</td>\n",
       "      <td>10.38</td>\n",
       "      <td>122.80</td>\n",
       "      <td>1001.0</td>\n",
       "      <td>0.11840</td>\n",
       "      <td>0.27760</td>\n",
       "      <td>0.3001</td>\n",
       "      <td>0.14710</td>\n",
       "      <td>0.2419</td>\n",
       "      <td>0.07871</td>\n",
       "      <td>...</td>\n",
       "      <td>25.38</td>\n",
       "      <td>17.33</td>\n",
       "      <td>184.60</td>\n",
       "      <td>2019.0</td>\n",
       "      <td>0.1622</td>\n",
       "      <td>0.6656</td>\n",
       "      <td>0.7119</td>\n",
       "      <td>0.2654</td>\n",
       "      <td>0.4601</td>\n",
       "      <td>0.11890</td>\n",
       "    </tr>\n",
       "    <tr>\n",
       "      <th>1</th>\n",
       "      <td>20.57</td>\n",
       "      <td>17.77</td>\n",
       "      <td>132.90</td>\n",
       "      <td>1326.0</td>\n",
       "      <td>0.08474</td>\n",
       "      <td>0.07864</td>\n",
       "      <td>0.0869</td>\n",
       "      <td>0.07017</td>\n",
       "      <td>0.1812</td>\n",
       "      <td>0.05667</td>\n",
       "      <td>...</td>\n",
       "      <td>24.99</td>\n",
       "      <td>23.41</td>\n",
       "      <td>158.80</td>\n",
       "      <td>1956.0</td>\n",
       "      <td>0.1238</td>\n",
       "      <td>0.1866</td>\n",
       "      <td>0.2416</td>\n",
       "      <td>0.1860</td>\n",
       "      <td>0.2750</td>\n",
       "      <td>0.08902</td>\n",
       "    </tr>\n",
       "    <tr>\n",
       "      <th>2</th>\n",
       "      <td>19.69</td>\n",
       "      <td>21.25</td>\n",
       "      <td>130.00</td>\n",
       "      <td>1203.0</td>\n",
       "      <td>0.10960</td>\n",
       "      <td>0.15990</td>\n",
       "      <td>0.1974</td>\n",
       "      <td>0.12790</td>\n",
       "      <td>0.2069</td>\n",
       "      <td>0.05999</td>\n",
       "      <td>...</td>\n",
       "      <td>23.57</td>\n",
       "      <td>25.53</td>\n",
       "      <td>152.50</td>\n",
       "      <td>1709.0</td>\n",
       "      <td>0.1444</td>\n",
       "      <td>0.4245</td>\n",
       "      <td>0.4504</td>\n",
       "      <td>0.2430</td>\n",
       "      <td>0.3613</td>\n",
       "      <td>0.08758</td>\n",
       "    </tr>\n",
       "    <tr>\n",
       "      <th>3</th>\n",
       "      <td>11.42</td>\n",
       "      <td>20.38</td>\n",
       "      <td>77.58</td>\n",
       "      <td>386.1</td>\n",
       "      <td>0.14250</td>\n",
       "      <td>0.28390</td>\n",
       "      <td>0.2414</td>\n",
       "      <td>0.10520</td>\n",
       "      <td>0.2597</td>\n",
       "      <td>0.09744</td>\n",
       "      <td>...</td>\n",
       "      <td>14.91</td>\n",
       "      <td>26.50</td>\n",
       "      <td>98.87</td>\n",
       "      <td>567.7</td>\n",
       "      <td>0.2098</td>\n",
       "      <td>0.8663</td>\n",
       "      <td>0.6869</td>\n",
       "      <td>0.2575</td>\n",
       "      <td>0.6638</td>\n",
       "      <td>0.17300</td>\n",
       "    </tr>\n",
       "    <tr>\n",
       "      <th>4</th>\n",
       "      <td>20.29</td>\n",
       "      <td>14.34</td>\n",
       "      <td>135.10</td>\n",
       "      <td>1297.0</td>\n",
       "      <td>0.10030</td>\n",
       "      <td>0.13280</td>\n",
       "      <td>0.1980</td>\n",
       "      <td>0.10430</td>\n",
       "      <td>0.1809</td>\n",
       "      <td>0.05883</td>\n",
       "      <td>...</td>\n",
       "      <td>22.54</td>\n",
       "      <td>16.67</td>\n",
       "      <td>152.20</td>\n",
       "      <td>1575.0</td>\n",
       "      <td>0.1374</td>\n",
       "      <td>0.2050</td>\n",
       "      <td>0.4000</td>\n",
       "      <td>0.1625</td>\n",
       "      <td>0.2364</td>\n",
       "      <td>0.07678</td>\n",
       "    </tr>\n",
       "  </tbody>\n",
       "</table>\n",
       "<p>5 rows × 30 columns</p>\n",
       "</div>"
      ],
      "text/plain": [
       "      2      3       4       5        6        7       8        9       10  \\\n",
       "0  17.99  10.38  122.80  1001.0  0.11840  0.27760  0.3001  0.14710  0.2419   \n",
       "1  20.57  17.77  132.90  1326.0  0.08474  0.07864  0.0869  0.07017  0.1812   \n",
       "2  19.69  21.25  130.00  1203.0  0.10960  0.15990  0.1974  0.12790  0.2069   \n",
       "3  11.42  20.38   77.58   386.1  0.14250  0.28390  0.2414  0.10520  0.2597   \n",
       "4  20.29  14.34  135.10  1297.0  0.10030  0.13280  0.1980  0.10430  0.1809   \n",
       "\n",
       "        11   ...        22     23      24      25      26      27      28  \\\n",
       "0  0.07871   ...     25.38  17.33  184.60  2019.0  0.1622  0.6656  0.7119   \n",
       "1  0.05667   ...     24.99  23.41  158.80  1956.0  0.1238  0.1866  0.2416   \n",
       "2  0.05999   ...     23.57  25.53  152.50  1709.0  0.1444  0.4245  0.4504   \n",
       "3  0.09744   ...     14.91  26.50   98.87   567.7  0.2098  0.8663  0.6869   \n",
       "4  0.05883   ...     22.54  16.67  152.20  1575.0  0.1374  0.2050  0.4000   \n",
       "\n",
       "       29      30       31  \n",
       "0  0.2654  0.4601  0.11890  \n",
       "1  0.1860  0.2750  0.08902  \n",
       "2  0.2430  0.3613  0.08758  \n",
       "3  0.2575  0.6638  0.17300  \n",
       "4  0.1625  0.2364  0.07678  \n",
       "\n",
       "[5 rows x 30 columns]"
      ]
     },
     "execution_count": 6,
     "metadata": {},
     "output_type": "execute_result"
    }
   ],
   "source": [
    "data = df.copy()\n",
    "del data[0]\n",
    "del data[1]\n",
    "data.head()"
   ]
  },
  {
   "cell_type": "code",
   "execution_count": 7,
   "metadata": {},
   "outputs": [],
   "source": [
    "%matplotlib inline\n",
    "import pandas as pd\n",
    "from sklearn.datasets import load_iris\n",
    "from sklearn.decomposition import PCA\n",
    "from sklearn.manifold import TSNE\n",
    "\n",
    "import matplotlib.pyplot as plt\n",
    "from matplotlib.colors import ListedColormap\n",
    "from mpl_toolkits.mplot3d import Axes3D\n",
    "import seaborn as sns"
   ]
  },
  {
   "cell_type": "code",
   "execution_count": 8,
   "metadata": {},
   "outputs": [
    {
     "data": {
      "text/plain": [
       "B    357\n",
       "M    212\n",
       "Name: 1, dtype: int64"
      ]
     },
     "execution_count": 8,
     "metadata": {},
     "output_type": "execute_result"
    }
   ],
   "source": [
    "df[1].value_counts()"
   ]
  },
  {
   "cell_type": "code",
   "execution_count": 9,
   "metadata": {},
   "outputs": [],
   "source": [
    "z = {'B' : 0 ,'M' : 1}\n",
    "df['target'] = df[1].map(z)"
   ]
  },
  {
   "cell_type": "code",
   "execution_count": 10,
   "metadata": {},
   "outputs": [],
   "source": [
    "m =[]\n",
    "m = data.max()"
   ]
  },
  {
   "cell_type": "code",
   "execution_count": 11,
   "metadata": {},
   "outputs": [],
   "source": [
    "l = []\n",
    "l = data.min()"
   ]
  },
  {
   "cell_type": "code",
   "execution_count": 12,
   "metadata": {},
   "outputs": [],
   "source": [
    "th = (m-l)/3.9"
   ]
  },
  {
   "cell_type": "code",
   "execution_count": 13,
   "metadata": {},
   "outputs": [],
   "source": [
    "original = data.values"
   ]
  },
  {
   "cell_type": "code",
   "execution_count": 14,
   "metadata": {},
   "outputs": [
    {
     "name": "stdout",
     "output_type": "stream",
     "text": [
      "Point 1 Done, clu = 1\n",
      "Point 2 Done, clu = 43\n",
      "Point 3 Done, clu = 46\n",
      "Point 4 Done, clu = 1\n",
      "Point 5 Done, clu = 31\n",
      "Point 6 Done, clu = 23\n",
      "Point 7 Done, clu = 89\n",
      "Point 8 Done, clu = 54\n",
      "Point 9 Done, clu = 31\n",
      "Point 10 Done, clu = 1\n",
      "Point 11 Done, clu = 116\n",
      "Point 12 Done, clu = 63\n",
      "Point 13 Done, clu = 1\n",
      "Point 14 Done, clu = 131\n",
      "Point 15 Done, clu = 11\n",
      "Point 16 Done, clu = 19\n",
      "Point 17 Done, clu = 104\n",
      "Point 18 Done, clu = 43\n",
      "Point 19 Done, clu = 39\n",
      "Point 20 Done, clu = 176\n",
      "Point 21 Done, clu = 184\n",
      "Point 22 Done, clu = 130\n",
      "Point 23 Done, clu = 4\n",
      "Point 24 Done, clu = 26\n",
      "Point 25 Done, clu = 37\n",
      "Point 26 Done, clu = 1\n",
      "Point 27 Done, clu = 13\n",
      "Point 28 Done, clu = 104\n",
      "Point 29 Done, clu = 42\n",
      "Point 30 Done, clu = 115\n",
      "Point 31 Done, clu = 55\n",
      "Point 32 Done, clu = 10\n",
      "Point 33 Done, clu = 44\n",
      "Point 34 Done, clu = 21\n",
      "Point 35 Done, clu = 50\n",
      "Point 36 Done, clu = 21\n",
      "Point 37 Done, clu = 110\n",
      "Point 38 Done, clu = 54\n",
      "Point 39 Done, clu = 3\n",
      "Point 40 Done, clu = 42\n",
      "Point 41 Done, clu = 152\n",
      "Point 42 Done, clu = 21\n",
      "Point 43 Done, clu = 1\n",
      "Point 44 Done, clu = 140\n",
      "Point 45 Done, clu = 101\n",
      "Point 46 Done, clu = 27\n",
      "Point 47 Done, clu = 162\n",
      "Point 48 Done, clu = 45\n",
      "Point 49 Done, clu = 170\n",
      "Point 50 Done, clu = 152\n",
      "Point 51 Done, clu = 171\n",
      "Point 52 Done, clu = 161\n",
      "Point 53 Done, clu = 215\n",
      "Point 54 Done, clu = 63\n",
      "Point 55 Done, clu = 110\n",
      "Point 56 Done, clu = 194\n",
      "Point 57 Done, clu = 58\n",
      "Point 58 Done, clu = 85\n",
      "Point 59 Done, clu = 138\n",
      "Point 60 Done, clu = 41\n",
      "Point 61 Done, clu = 4\n",
      "Point 62 Done, clu = 48\n",
      "Point 63 Done, clu = 14\n",
      "Point 64 Done, clu = 9\n",
      "Point 65 Done, clu = 37\n",
      "Point 66 Done, clu = 74\n",
      "Point 67 Done, clu = 90\n",
      "Point 68 Done, clu = 220\n",
      "Point 69 Done, clu = 1\n",
      "Point 70 Done, clu = 205\n",
      "Point 71 Done, clu = 53\n",
      "Point 72 Done, clu = 1\n",
      "Point 73 Done, clu = 14\n",
      "Point 74 Done, clu = 184\n",
      "Point 75 Done, clu = 259\n",
      "Point 76 Done, clu = 143\n",
      "Point 77 Done, clu = 9\n",
      "Point 78 Done, clu = 21\n",
      "Point 79 Done, clu = 1\n",
      "Point 80 Done, clu = 272\n",
      "Point 81 Done, clu = 72\n",
      "Point 82 Done, clu = 89\n",
      "Point 83 Done, clu = 6\n",
      "Point 84 Done, clu = 2\n",
      "Point 85 Done, clu = 195\n",
      "Point 86 Done, clu = 84\n",
      "Point 87 Done, clu = 100\n",
      "Point 88 Done, clu = 55\n",
      "Point 89 Done, clu = 193\n",
      "Point 90 Done, clu = 115\n",
      "Point 91 Done, clu = 176\n",
      "Point 92 Done, clu = 146\n",
      "Point 93 Done, clu = 129\n",
      "Point 94 Done, clu = 252\n",
      "Point 95 Done, clu = 83\n",
      "Point 96 Done, clu = 65\n",
      "Point 97 Done, clu = 193\n",
      "Point 98 Done, clu = 79\n",
      "Point 99 Done, clu = 168\n",
      "Point 100 Done, clu = 133\n",
      "Point 101 Done, clu = 110\n",
      "Point 102 Done, clu = 8\n",
      "Point 103 Done, clu = 120\n",
      "Point 104 Done, clu = 172\n",
      "Point 105 Done, clu = 107\n",
      "Point 106 Done, clu = 9\n",
      "Point 107 Done, clu = 107\n",
      "Point 108 Done, clu = 209\n",
      "Point 109 Done, clu = 1\n",
      "Point 110 Done, clu = 85\n",
      "Point 111 Done, clu = 89\n",
      "Point 112 Done, clu = 89\n",
      "Point 113 Done, clu = 3\n",
      "Point 114 Done, clu = 39\n",
      "Point 115 Done, clu = 42\n",
      "Point 116 Done, clu = 177\n",
      "Point 117 Done, clu = 3\n",
      "Point 118 Done, clu = 43\n",
      "Point 119 Done, clu = 29\n",
      "Point 120 Done, clu = 1\n",
      "Point 121 Done, clu = 109\n",
      "Point 122 Done, clu = 106\n",
      "Point 123 Done, clu = 1\n",
      "Point 124 Done, clu = 117\n",
      "Point 125 Done, clu = 157\n",
      "Point 126 Done, clu = 212\n",
      "Point 127 Done, clu = 81\n",
      "Point 128 Done, clu = 75\n",
      "Point 129 Done, clu = 53\n",
      "Point 130 Done, clu = 33\n",
      "Point 131 Done, clu = 176\n",
      "Point 132 Done, clu = 139\n",
      "Point 133 Done, clu = 113\n",
      "Point 134 Done, clu = 170\n",
      "Point 135 Done, clu = 100\n",
      "Point 136 Done, clu = 133\n",
      "Point 137 Done, clu = 38\n",
      "Point 138 Done, clu = 234\n",
      "Point 139 Done, clu = 1\n",
      "Point 140 Done, clu = 95\n",
      "Point 141 Done, clu = 59\n",
      "Point 142 Done, clu = 244\n",
      "Point 143 Done, clu = 159\n",
      "Point 144 Done, clu = 226\n",
      "Point 145 Done, clu = 154\n",
      "Point 146 Done, clu = 27\n",
      "Point 147 Done, clu = 2\n",
      "Point 148 Done, clu = 75\n",
      "Point 149 Done, clu = 124\n",
      "Point 150 Done, clu = 160\n",
      "Point 151 Done, clu = 15\n",
      "Point 152 Done, clu = 2\n",
      "Point 153 Done, clu = 1\n",
      "Point 154 Done, clu = 168\n",
      "Point 155 Done, clu = 159\n",
      "Point 156 Done, clu = 252\n",
      "Point 157 Done, clu = 82\n",
      "Point 158 Done, clu = 73\n",
      "Point 159 Done, clu = 190\n",
      "Point 160 Done, clu = 136\n",
      "Point 161 Done, clu = 165\n",
      "Point 162 Done, clu = 17\n",
      "Point 163 Done, clu = 31\n",
      "Point 164 Done, clu = 186\n",
      "Point 165 Done, clu = 28\n",
      "Point 166 Done, clu = 181\n",
      "Point 167 Done, clu = 65\n",
      "Point 168 Done, clu = 166\n",
      "Point 169 Done, clu = 41\n",
      "Point 170 Done, clu = 237\n",
      "Point 171 Done, clu = 146\n",
      "Point 172 Done, clu = 167\n",
      "Point 173 Done, clu = 14\n",
      "Point 174 Done, clu = 49\n",
      "Point 175 Done, clu = 69\n",
      "Point 176 Done, clu = 86\n",
      "Point 177 Done, clu = 2\n",
      "Point 178 Done, clu = 90\n",
      "Point 179 Done, clu = 55\n",
      "Point 180 Done, clu = 124\n",
      "Point 181 Done, clu = 5\n",
      "Point 182 Done, clu = 3\n",
      "Point 183 Done, clu = 112\n",
      "Point 184 Done, clu = 92\n",
      "Point 185 Done, clu = 197\n",
      "Point 186 Done, clu = 51\n",
      "Point 187 Done, clu = 98\n",
      "Point 188 Done, clu = 214\n",
      "Point 189 Done, clu = 143\n",
      "Point 190 Done, clu = 186\n",
      "Point 191 Done, clu = 1\n",
      "Point 192 Done, clu = 90\n",
      "Point 193 Done, clu = 1\n",
      "Point 194 Done, clu = 20\n",
      "Point 195 Done, clu = 54\n",
      "Point 196 Done, clu = 214\n",
      "Point 197 Done, clu = 32\n",
      "Point 198 Done, clu = 30\n",
      "Point 199 Done, clu = 35\n",
      "Point 200 Done, clu = 29\n",
      "Point 201 Done, clu = 197\n",
      "Point 202 Done, clu = 85\n",
      "Point 203 Done, clu = 6\n",
      "Point 204 Done, clu = 2\n",
      "Point 205 Done, clu = 248\n",
      "Point 206 Done, clu = 163\n",
      "Point 207 Done, clu = 184\n",
      "Point 208 Done, clu = 149\n",
      "Point 209 Done, clu = 48\n",
      "Point 210 Done, clu = 112\n",
      "Point 211 Done, clu = 29\n",
      "Point 212 Done, clu = 249\n",
      "Point 213 Done, clu = 1\n",
      "Point 214 Done, clu = 1\n",
      "Point 215 Done, clu = 3\n",
      "Point 216 Done, clu = 96\n",
      "Point 217 Done, clu = 219\n",
      "Point 218 Done, clu = 112\n",
      "Point 219 Done, clu = 66\n",
      "Point 220 Done, clu = 7\n",
      "Point 221 Done, clu = 145\n",
      "Point 222 Done, clu = 174\n",
      "Point 223 Done, clu = 187\n",
      "Point 224 Done, clu = 104\n",
      "Point 225 Done, clu = 223\n",
      "Point 226 Done, clu = 134\n",
      "Point 227 Done, clu = 180\n",
      "Point 228 Done, clu = 153\n",
      "Point 229 Done, clu = 131\n",
      "Point 230 Done, clu = 34\n",
      "Point 231 Done, clu = 36\n",
      "Point 232 Done, clu = 37\n",
      "Point 233 Done, clu = 12\n",
      "Point 234 Done, clu = 20\n",
      "Point 235 Done, clu = 135\n",
      "Point 236 Done, clu = 178\n",
      "Point 237 Done, clu = 12\n",
      "Point 238 Done, clu = 51\n",
      "Point 239 Done, clu = 24\n",
      "Point 240 Done, clu = 1\n",
      "Point 241 Done, clu = 215\n",
      "Point 242 Done, clu = 155\n",
      "Point 243 Done, clu = 6\n",
      "Point 244 Done, clu = 125\n",
      "Point 245 Done, clu = 74\n",
      "Point 246 Done, clu = 20\n",
      "Point 247 Done, clu = 152\n",
      "Point 248 Done, clu = 8\n",
      "Point 249 Done, clu = 67\n",
      "Point 250 Done, clu = 225\n",
      "Point 251 Done, clu = 22\n",
      "Point 252 Done, clu = 243\n",
      "Point 253 Done, clu = 11\n",
      "Point 254 Done, clu = 102\n",
      "Point 255 Done, clu = 64\n",
      "Point 256 Done, clu = 192\n",
      "Point 257 Done, clu = 22\n",
      "Point 258 Done, clu = 12\n",
      "Point 259 Done, clu = 1\n",
      "Point 260 Done, clu = 1\n",
      "Point 261 Done, clu = 31\n",
      "Point 262 Done, clu = 111\n",
      "Point 263 Done, clu = 43\n",
      "Point 264 Done, clu = 116\n",
      "Point 265 Done, clu = 75\n",
      "Point 266 Done, clu = 2\n",
      "Point 267 Done, clu = 171\n",
      "Point 268 Done, clu = 157\n",
      "Point 269 Done, clu = 193\n",
      "Point 270 Done, clu = 156\n",
      "Point 271 Done, clu = 88\n",
      "Point 272 Done, clu = 175\n",
      "Point 273 Done, clu = 32\n",
      "Point 274 Done, clu = 78\n",
      "Point 275 Done, clu = 86\n",
      "Point 276 Done, clu = 16\n",
      "Point 277 Done, clu = 133\n",
      "Point 278 Done, clu = 99\n",
      "Point 279 Done, clu = 175\n",
      "Point 280 Done, clu = 159\n",
      "Point 281 Done, clu = 32\n",
      "Point 282 Done, clu = 101\n",
      "Point 283 Done, clu = 70\n",
      "Point 284 Done, clu = 75\n",
      "Point 285 Done, clu = 145\n",
      "Point 286 Done, clu = 146\n",
      "Point 287 Done, clu = 103\n",
      "Point 288 Done, clu = 85\n",
      "Point 289 Done, clu = 1\n",
      "Point 290 Done, clu = 114\n",
      "Point 291 Done, clu = 2\n",
      "Point 292 Done, clu = 186\n",
      "Point 293 Done, clu = 198\n",
      "Point 294 Done, clu = 228\n",
      "Point 295 Done, clu = 191\n",
      "Point 296 Done, clu = 178\n",
      "Point 297 Done, clu = 87\n",
      "Point 298 Done, clu = 129\n",
      "Point 299 Done, clu = 135\n",
      "Point 300 Done, clu = 102\n",
      "Point 301 Done, clu = 58\n",
      "Point 302 Done, clu = 247\n",
      "Point 303 Done, clu = 12\n",
      "Point 304 Done, clu = 196\n",
      "Point 305 Done, clu = 201\n",
      "Point 306 Done, clu = 89\n",
      "Point 307 Done, clu = 156\n",
      "Point 308 Done, clu = 88\n",
      "Point 309 Done, clu = 77\n",
      "Point 310 Done, clu = 120\n",
      "Point 311 Done, clu = 207\n",
      "Point 312 Done, clu = 153\n",
      "Point 313 Done, clu = 193\n",
      "Point 314 Done, clu = 96\n",
      "Point 315 Done, clu = 1\n",
      "Point 316 Done, clu = 99\n",
      "Point 317 Done, clu = 112\n",
      "Point 318 Done, clu = 105\n",
      "Point 319 Done, clu = 3\n",
      "Point 320 Done, clu = 37\n",
      "Point 321 Done, clu = 143\n",
      "Point 322 Done, clu = 45\n",
      "Point 323 Done, clu = 137\n",
      "Point 324 Done, clu = 1\n",
      "Point 325 Done, clu = 221\n",
      "Point 326 Done, clu = 215\n",
      "Point 327 Done, clu = 145\n",
      "Point 328 Done, clu = 133\n",
      "Point 329 Done, clu = 112\n",
      "Point 330 Done, clu = 20\n"
     ]
    },
    {
     "name": "stdout",
     "output_type": "stream",
     "text": [
      "Point 331 Done, clu = 87\n",
      "Point 332 Done, clu = 216\n",
      "Point 333 Done, clu = 29\n",
      "Point 334 Done, clu = 162\n",
      "Point 335 Done, clu = 186\n",
      "Point 336 Done, clu = 61\n",
      "Point 337 Done, clu = 100\n",
      "Point 338 Done, clu = 59\n",
      "Point 339 Done, clu = 147\n",
      "Point 340 Done, clu = 14\n",
      "Point 341 Done, clu = 194\n",
      "Point 342 Done, clu = 95\n",
      "Point 343 Done, clu = 186\n",
      "Point 344 Done, clu = 13\n",
      "Point 345 Done, clu = 136\n",
      "Point 346 Done, clu = 13\n",
      "Point 347 Done, clu = 203\n",
      "Point 348 Done, clu = 168\n",
      "Point 349 Done, clu = 162\n",
      "Point 350 Done, clu = 19\n",
      "Point 351 Done, clu = 157\n",
      "Point 352 Done, clu = 1\n",
      "Point 353 Done, clu = 4\n",
      "Point 354 Done, clu = 90\n",
      "Point 355 Done, clu = 77\n",
      "Point 356 Done, clu = 194\n",
      "Point 357 Done, clu = 214\n",
      "Point 358 Done, clu = 189\n",
      "Point 359 Done, clu = 131\n",
      "Point 360 Done, clu = 169\n",
      "Point 361 Done, clu = 109\n",
      "Point 362 Done, clu = 206\n",
      "Point 363 Done, clu = 263\n",
      "Point 364 Done, clu = 216\n",
      "Point 365 Done, clu = 212\n",
      "Point 366 Done, clu = 66\n",
      "Point 367 Done, clu = 21\n",
      "Point 368 Done, clu = 250\n",
      "Point 369 Done, clu = 6\n",
      "Point 370 Done, clu = 27\n",
      "Point 371 Done, clu = 21\n",
      "Point 372 Done, clu = 142\n",
      "Point 373 Done, clu = 38\n",
      "Point 374 Done, clu = 46\n",
      "Point 375 Done, clu = 189\n",
      "Point 376 Done, clu = 144\n",
      "Point 377 Done, clu = 4\n",
      "Point 378 Done, clu = 40\n",
      "Point 379 Done, clu = 205\n",
      "Point 380 Done, clu = 1\n",
      "Point 381 Done, clu = 80\n",
      "Point 382 Done, clu = 184\n",
      "Point 383 Done, clu = 41\n",
      "Point 384 Done, clu = 169\n",
      "Point 385 Done, clu = 177\n",
      "Point 386 Done, clu = 141\n",
      "Point 387 Done, clu = 185\n",
      "Point 388 Done, clu = 101\n",
      "Point 389 Done, clu = 14\n",
      "Point 390 Done, clu = 2\n",
      "Point 391 Done, clu = 153\n",
      "Point 392 Done, clu = 20\n",
      "Point 393 Done, clu = 82\n",
      "Point 394 Done, clu = 21\n",
      "Point 395 Done, clu = 209\n",
      "Point 396 Done, clu = 219\n",
      "Point 397 Done, clu = 180\n",
      "Point 398 Done, clu = 176\n",
      "Point 399 Done, clu = 178\n",
      "Point 400 Done, clu = 236\n",
      "Point 401 Done, clu = 7\n",
      "Point 402 Done, clu = 144\n",
      "Point 403 Done, clu = 173\n",
      "Point 404 Done, clu = 243\n",
      "Point 405 Done, clu = 153\n",
      "Point 406 Done, clu = 209\n",
      "Point 407 Done, clu = 202\n",
      "Point 408 Done, clu = 110\n",
      "Point 409 Done, clu = 106\n",
      "Point 410 Done, clu = 181\n",
      "Point 411 Done, clu = 61\n",
      "Point 412 Done, clu = 213\n",
      "Point 413 Done, clu = 99\n",
      "Point 414 Done, clu = 151\n",
      "Point 415 Done, clu = 33\n",
      "Point 416 Done, clu = 203\n",
      "Point 417 Done, clu = 13\n",
      "Point 418 Done, clu = 23\n",
      "Point 419 Done, clu = 184\n",
      "Point 420 Done, clu = 186\n",
      "Point 421 Done, clu = 207\n",
      "Point 422 Done, clu = 46\n",
      "Point 423 Done, clu = 192\n",
      "Point 424 Done, clu = 191\n",
      "Point 425 Done, clu = 10\n",
      "Point 426 Done, clu = 143\n",
      "Point 427 Done, clu = 206\n",
      "Point 428 Done, clu = 140\n",
      "Point 429 Done, clu = 177\n",
      "Point 430 Done, clu = 161\n",
      "Point 431 Done, clu = 10\n",
      "Point 432 Done, clu = 179\n",
      "Point 433 Done, clu = 46\n",
      "Point 434 Done, clu = 101\n",
      "Point 435 Done, clu = 228\n",
      "Point 436 Done, clu = 85\n",
      "Point 437 Done, clu = 248\n",
      "Point 438 Done, clu = 253\n",
      "Point 439 Done, clu = 190\n",
      "Point 440 Done, clu = 159\n",
      "Point 441 Done, clu = 87\n",
      "Point 442 Done, clu = 57\n",
      "Point 443 Done, clu = 117\n",
      "Point 444 Done, clu = 14\n",
      "Point 445 Done, clu = 131\n",
      "Point 446 Done, clu = 132\n",
      "Point 447 Done, clu = 34\n",
      "Point 448 Done, clu = 216\n",
      "Point 449 Done, clu = 176\n",
      "Point 450 Done, clu = 39\n",
      "Point 451 Done, clu = 20\n",
      "Point 452 Done, clu = 56\n",
      "Point 453 Done, clu = 53\n",
      "Point 454 Done, clu = 159\n",
      "Point 455 Done, clu = 226\n",
      "Point 456 Done, clu = 23\n",
      "Point 457 Done, clu = 27\n",
      "Point 458 Done, clu = 92\n",
      "Point 459 Done, clu = 101\n",
      "Point 460 Done, clu = 43\n",
      "Point 461 Done, clu = 56\n",
      "Point 462 Done, clu = 1\n",
      "Point 463 Done, clu = 51\n",
      "Point 464 Done, clu = 230\n",
      "Point 465 Done, clu = 172\n",
      "Point 466 Done, clu = 11\n",
      "Point 467 Done, clu = 168\n",
      "Point 468 Done, clu = 181\n",
      "Point 469 Done, clu = 10\n",
      "Point 470 Done, clu = 29\n",
      "Point 471 Done, clu = 110\n",
      "Point 472 Done, clu = 25\n",
      "Point 473 Done, clu = 154\n",
      "Point 474 Done, clu = 3\n",
      "Point 475 Done, clu = 133\n",
      "Point 476 Done, clu = 209\n",
      "Point 477 Done, clu = 184\n",
      "Point 478 Done, clu = 131\n",
      "Point 479 Done, clu = 228\n",
      "Point 480 Done, clu = 43\n",
      "Point 481 Done, clu = 193\n",
      "Point 482 Done, clu = 196\n",
      "Point 483 Done, clu = 158\n",
      "Point 484 Done, clu = 247\n",
      "Point 485 Done, clu = 75\n",
      "Point 486 Done, clu = 15\n",
      "Point 487 Done, clu = 179\n",
      "Point 488 Done, clu = 58\n",
      "Point 489 Done, clu = 186\n",
      "Point 490 Done, clu = 9\n",
      "Point 491 Done, clu = 142\n",
      "Point 492 Done, clu = 60\n",
      "Point 493 Done, clu = 115\n",
      "Point 494 Done, clu = 105\n",
      "Point 495 Done, clu = 176\n",
      "Point 496 Done, clu = 216\n",
      "Point 497 Done, clu = 155\n",
      "Point 498 Done, clu = 236\n",
      "Point 499 Done, clu = 89\n",
      "Point 500 Done, clu = 64\n",
      "Point 501 Done, clu = 159\n",
      "Point 502 Done, clu = 35\n",
      "Point 503 Done, clu = 152\n",
      "Point 504 Done, clu = 12\n",
      "Point 505 Done, clu = 1\n",
      "Point 506 Done, clu = 1\n",
      "Point 507 Done, clu = 135\n",
      "Point 508 Done, clu = 27\n",
      "Point 509 Done, clu = 143\n",
      "Point 510 Done, clu = 39\n",
      "Point 511 Done, clu = 150\n",
      "Point 512 Done, clu = 168\n",
      "Point 513 Done, clu = 53\n",
      "Point 514 Done, clu = 186\n",
      "Point 515 Done, clu = 212\n",
      "Point 516 Done, clu = 211\n",
      "Point 517 Done, clu = 106\n",
      "Point 518 Done, clu = 80\n",
      "Point 519 Done, clu = 79\n",
      "Point 520 Done, clu = 157\n",
      "Point 521 Done, clu = 4\n",
      "Point 522 Done, clu = 13\n",
      "Point 523 Done, clu = 168\n",
      "Point 524 Done, clu = 216\n",
      "Point 525 Done, clu = 149\n",
      "Point 526 Done, clu = 89\n",
      "Point 527 Done, clu = 131\n",
      "Point 528 Done, clu = 174\n",
      "Point 529 Done, clu = 5\n",
      "Point 530 Done, clu = 134\n",
      "Point 531 Done, clu = 174\n",
      "Point 532 Done, clu = 161\n",
      "Point 533 Done, clu = 211\n",
      "Point 534 Done, clu = 47\n",
      "Point 535 Done, clu = 216\n",
      "Point 536 Done, clu = 46\n",
      "Point 537 Done, clu = 97\n",
      "Point 538 Done, clu = 26\n",
      "Point 539 Done, clu = 24\n",
      "Point 540 Done, clu = 6\n",
      "Point 541 Done, clu = 163\n",
      "Point 542 Done, clu = 109\n",
      "Point 543 Done, clu = 116\n",
      "Point 544 Done, clu = 54\n",
      "Point 545 Done, clu = 235\n",
      "Point 546 Done, clu = 209\n",
      "Point 547 Done, clu = 173\n",
      "Point 548 Done, clu = 214\n",
      "Point 549 Done, clu = 218\n",
      "Point 550 Done, clu = 120\n",
      "Point 551 Done, clu = 92\n",
      "Point 552 Done, clu = 162\n",
      "Point 553 Done, clu = 41\n",
      "Point 554 Done, clu = 81\n",
      "Point 555 Done, clu = 53\n",
      "Point 556 Done, clu = 48\n",
      "Point 557 Done, clu = 104\n",
      "Point 558 Done, clu = 9\n",
      "Point 559 Done, clu = 103\n",
      "Point 560 Done, clu = 11\n",
      "Point 561 Done, clu = 81\n",
      "Point 562 Done, clu = 1\n",
      "Point 563 Done, clu = 1\n",
      "Point 564 Done, clu = 15\n",
      "Point 565 Done, clu = 23\n",
      "Point 566 Done, clu = 11\n",
      "Point 567 Done, clu = 55\n",
      "Point 568 Done, clu = 2\n",
      "Point 569 Done, clu = 15\n",
      "CPU times: user 1min 12s, sys: 324 ms, total: 1min 13s\n",
      "Wall time: 1min 12s\n"
     ]
    }
   ],
   "source": [
    "%%time\n",
    "\n",
    "tot = []\n",
    "for i in range(len(original)):\n",
    "    point = []\n",
    "    for j in range(len(original)):\n",
    "        diff = np.absolute(original[j] - original[i])\n",
    "        if np.sum(diff<=th) == len(original[j]) :\n",
    "            point.append(j)\n",
    "    tot.append(point)\n",
    "    print(\"Point {} Done, clu = {}\".format(i+1,len(point)))"
   ]
  },
  {
   "cell_type": "code",
   "execution_count": 15,
   "metadata": {},
   "outputs": [],
   "source": [
    "test = tot"
   ]
  },
  {
   "cell_type": "code",
   "execution_count": 16,
   "metadata": {},
   "outputs": [],
   "source": [
    "# Modified QuickSort\n",
    "# Given a set of clustures, sorts according to the length of clustures\n",
    "\n",
    "\n",
    "def partition(arr,low,high): \n",
    "    i = ( low-1 )         # index of smaller element \n",
    "    pivot = arr[high]     # pivot \n",
    "  \n",
    "    for j in range(low , high): \n",
    "  \n",
    "        # If current element is smaller than or \n",
    "        # equal to pivot \n",
    "        if   len(arr[j]) <= len(pivot) : \n",
    "          \n",
    "            # increment index of smaller element \n",
    "            i = i+1 \n",
    "            arr[i],arr[j] = arr[j],arr[i] \n",
    "  \n",
    "    arr[i+1],arr[high] = arr[high],arr[i+1] \n",
    "    return ( i+1 ) \n",
    "  \n",
    "# The main function that implements QuickSort \n",
    "# arr[] --> Array to be sorted, \n",
    "# low  --> Starting index, \n",
    "# high  --> Ending index \n",
    "  \n",
    "# Function to do Quick sort \n",
    "def quickSort(arr,low,high): \n",
    "    if low < high: \n",
    "  \n",
    "        # pi is partitioning index, arr[p] is now \n",
    "        # at right place \n",
    "        pi = partition(arr,low,high) \n",
    "  \n",
    "        # Separately sort elements before \n",
    "        # partition and after partition \n",
    "        quickSort(arr, low, pi-1) \n",
    "        quickSort(arr, pi+1, high) "
   ]
  },
  {
   "cell_type": "code",
   "execution_count": 17,
   "metadata": {},
   "outputs": [
    {
     "name": "stdout",
     "output_type": "stream",
     "text": [
      "CPU times: user 1.53 ms, sys: 0 ns, total: 1.53 ms\n",
      "Wall time: 1.53 ms\n"
     ]
    }
   ],
   "source": [
    "%%time\n",
    "\n",
    "n = len(test) \n",
    "quickSort(test,0,n-1) "
   ]
  },
  {
   "cell_type": "code",
   "execution_count": 18,
   "metadata": {},
   "outputs": [],
   "source": [
    "test.reverse()"
   ]
  },
  {
   "cell_type": "code",
   "execution_count": 19,
   "metadata": {},
   "outputs": [],
   "source": [
    "#extent of similarity between two sets\n",
    "\n",
    "simi_th = 0.90"
   ]
  },
  {
   "cell_type": "code",
   "execution_count": 20,
   "metadata": {},
   "outputs": [],
   "source": [
    "list2 = test"
   ]
  },
  {
   "cell_type": "code",
   "execution_count": 21,
   "metadata": {},
   "outputs": [],
   "source": [
    "clu = []\n",
    "clu.append(list2[0])\n",
    "for i in range(1,len(list2)):\n",
    "    clu_new = list2[i]\n",
    "    common_elements = list(set().union(*clu) & set(clu_new))\n",
    "    simi = len(common_elements)/len(clu_new)\n",
    "    clu_nei = list(set(clu_new) - set(common_elements))\n",
    "    if simi < simi_th :\n",
    "        clu.append(clu_nei)\n",
    "    else :\n",
    "        clu[-1] = clu[-1] + clu_nei\n"
   ]
  },
  {
   "cell_type": "code",
   "execution_count": 22,
   "metadata": {},
   "outputs": [
    {
     "data": {
      "text/plain": [
       "40"
      ]
     },
     "execution_count": 22,
     "metadata": {},
     "output_type": "execute_result"
    }
   ],
   "source": [
    "len(clu)"
   ]
  },
  {
   "cell_type": "code",
   "execution_count": 23,
   "metadata": {},
   "outputs": [],
   "source": [
    "n = len(clu) \n",
    "quickSort(clu,0,n-1) "
   ]
  },
  {
   "cell_type": "code",
   "execution_count": 24,
   "metadata": {},
   "outputs": [],
   "source": [
    "clu.reverse()"
   ]
  },
  {
   "cell_type": "code",
   "execution_count": 25,
   "metadata": {},
   "outputs": [
    {
     "name": "stdout",
     "output_type": "stream",
     "text": [
      "342\n",
      "178\n",
      "11\n",
      "2\n",
      "1\n",
      "1\n",
      "1\n",
      "1\n",
      "1\n",
      "1\n",
      "1\n",
      "1\n",
      "1\n",
      "1\n",
      "1\n",
      "1\n",
      "1\n",
      "1\n",
      "1\n",
      "1\n",
      "1\n",
      "1\n",
      "1\n",
      "1\n",
      "1\n",
      "1\n",
      "1\n",
      "1\n",
      "1\n",
      "1\n",
      "1\n",
      "1\n",
      "1\n",
      "1\n",
      "1\n",
      "1\n",
      "1\n",
      "1\n",
      "1\n",
      "1\n"
     ]
    }
   ],
   "source": [
    "for i in range(len(clu)):\n",
    "    print(len(clu[i]))"
   ]
  },
  {
   "cell_type": "code",
   "execution_count": 26,
   "metadata": {},
   "outputs": [],
   "source": [
    "tot_clu =[]\n",
    "\n",
    "for i in range(len(clu)) :\n",
    "    point_clu = []    \n",
    "    for j in range(len(clu[i])):\n",
    "        k=clu[i][j]\n",
    "        point_clu.append(original[k])            \n",
    "    tot_clu.append(point_clu)"
   ]
  },
  {
   "cell_type": "code",
   "execution_count": 27,
   "metadata": {},
   "outputs": [],
   "source": [
    "top = 2\n",
    "dataset = []\n",
    "target = []\n",
    "for i in range(top):\n",
    "    dataset = dataset + tot_clu[i]\n",
    "    for j in range(len(tot_clu[i])):\n",
    "        target.append(i)\n",
    "    \n",
    "    "
   ]
  },
  {
   "cell_type": "code",
   "execution_count": 28,
   "metadata": {},
   "outputs": [],
   "source": [
    "tsne = TSNE(n_components=2, n_iter=2000, random_state=42)\n",
    "points = tsne.fit_transform(dataset)"
   ]
  },
  {
   "cell_type": "code",
   "execution_count": 29,
   "metadata": {},
   "outputs": [
    {
     "data": {
      "text/plain": [
       "<matplotlib.collections.PathCollection at 0x7fb9f00cdba8>"
      ]
     },
     "execution_count": 29,
     "metadata": {},
     "output_type": "execute_result"
    },
    {
     "data": {
      "image/png": "[encoded data removed]",
      "text/plain": [
       "<Figure size 432x288 with 1 Axes>"
      ]
     },
     "metadata": {},
     "output_type": "display_data"
    }
   ],
   "source": [
    "plt.scatter(x = points[:, 0], y = points[:, 1],\n",
    "        c=target,\n",
    "        cmap=ListedColormap(sns.color_palette('magma', n_colors=10).as_hex()),\n",
    "        s=30)"
   ]
  },
  {
   "cell_type": "code",
   "execution_count": 30,
   "metadata": {},
   "outputs": [],
   "source": [
    "index_clu = clu"
   ]
  },
  {
   "cell_type": "code",
   "execution_count": 31,
   "metadata": {},
   "outputs": [],
   "source": [
    "n = len(index_clu) \n",
    "quickSort(index_clu,0,n-1) "
   ]
  },
  {
   "cell_type": "code",
   "execution_count": 32,
   "metadata": {},
   "outputs": [],
   "source": [
    "index_clu.reverse()"
   ]
  },
  {
   "cell_type": "code",
   "execution_count": 33,
   "metadata": {},
   "outputs": [],
   "source": [
    "top = 2\n",
    "idx_dataset = []\n",
    "target1 = []\n",
    "for i in range(top):\n",
    "    idx_dataset = idx_dataset + index_clu[i]\n",
    "    for j in range(len(index_clu[i])):\n",
    "        target1.append(i)\n",
    "    \n",
    "    "
   ]
  },
  {
   "cell_type": "code",
   "execution_count": 34,
   "metadata": {},
   "outputs": [],
   "source": [
    "from sklearn.metrics import jaccard_similarity_score"
   ]
  },
  {
   "cell_type": "code",
   "execution_count": 35,
   "metadata": {},
   "outputs": [
    {
     "data": {
      "text/plain": [
       "1.0"
      ]
     },
     "execution_count": 35,
     "metadata": {},
     "output_type": "execute_result"
    }
   ],
   "source": [
    "jaccard_similarity_score(target,target1)"
   ]
  },
  {
   "cell_type": "code",
   "execution_count": 36,
   "metadata": {},
   "outputs": [],
   "source": [
    "actu = []\n",
    "for i in range(len(idx_dataset)):\n",
    "    pp = idx_dataset[i]\n",
    "    actu.append(df.target[pp])"
   ]
  },
  {
   "cell_type": "code",
   "execution_count": 37,
   "metadata": {},
   "outputs": [
    {
     "data": {
      "text/plain": [
       "<matplotlib.collections.PathCollection at 0x7fb9ec7e4dd8>"
      ]
     },
     "execution_count": 37,
     "metadata": {},
     "output_type": "execute_result"
    },
    {
     "data": {
      "image/png": "[encoded data removed]",
      "text/plain": [
       "<Figure size 432x288 with 1 Axes>"
      ]
     },
     "metadata": {},
     "output_type": "display_data"
    }
   ],
   "source": [
    "plt.scatter(x = points[:, 0], y = points[:, 1],\n",
    "        c=actu,\n",
    "        cmap=ListedColormap(sns.color_palette('magma', n_colors=10).as_hex()),\n",
    "        s=30)"
   ]
  },
  {
   "cell_type": "code",
   "execution_count": 38,
   "metadata": {},
   "outputs": [],
   "source": [
    "import numpy as np\n",
    "from sklearn.cluster import KMeans"
   ]
  },
  {
   "cell_type": "code",
   "execution_count": 39,
   "metadata": {},
   "outputs": [],
   "source": [
    "from sklearn import metrics\n",
    "from sklearn.metrics import pairwise_distances\n",
    "from sklearn import datasets"
   ]
  },
  {
   "cell_type": "code",
   "execution_count": 40,
   "metadata": {},
   "outputs": [],
   "source": [
    "kmeans_model = KMeans(n_clusters=2, random_state=1).fit(dataset)\n",
    "labels = kmeans_model.labels_"
   ]
  },
  {
   "cell_type": "code",
   "execution_count": 41,
   "metadata": {},
   "outputs": [],
   "source": [
    "new = pd.DataFrame(idx_dataset, columns=['idx'])\n"
   ]
  },
  {
   "cell_type": "code",
   "execution_count": 42,
   "metadata": {},
   "outputs": [],
   "source": [
    "new['actual'] = actu"
   ]
  },
  {
   "cell_type": "code",
   "execution_count": 43,
   "metadata": {},
   "outputs": [],
   "source": [
    "new['pred'] = target"
   ]
  },
  {
   "cell_type": "code",
   "execution_count": 44,
   "metadata": {},
   "outputs": [],
   "source": [
    "new['km'] = labels"
   ]
  },
  {
   "cell_type": "code",
   "execution_count": 45,
   "metadata": {},
   "outputs": [
    {
     "data": {
      "text/plain": [
       "<matplotlib.collections.PathCollection at 0x7fb9ebc4ada0>"
      ]
     },
     "execution_count": 45,
     "metadata": {},
     "output_type": "execute_result"
    },
    {
     "data": {
      "image/png": "[encoded data removed]",
      "text/plain": [
       "<Figure size 432x288 with 1 Axes>"
      ]
     },
     "metadata": {},
     "output_type": "display_data"
    }
   ],
   "source": [
    "plt.scatter(x = points[:, 0], y = points[:, 1],\n",
    "        c=new.km,\n",
    "        cmap=ListedColormap(sns.color_palette('magma', n_colors=10).as_hex()),\n",
    "        s=30)"
   ]
  },
  {
   "cell_type": "code",
   "execution_count": 46,
   "metadata": {},
   "outputs": [
    {
     "data": {
      "text/plain": [
       "0    342\n",
       "1    178\n",
       "Name: pred, dtype: int64"
      ]
     },
     "execution_count": 46,
     "metadata": {},
     "output_type": "execute_result"
    }
   ],
   "source": [
    "new['pred'].value_counts()"
   ]
  },
  {
   "cell_type": "code",
   "execution_count": 47,
   "metadata": {},
   "outputs": [
    {
     "data": {
      "text/plain": [
       "0    408\n",
       "1    112\n",
       "Name: km, dtype: int64"
      ]
     },
     "execution_count": 47,
     "metadata": {},
     "output_type": "execute_result"
    }
   ],
   "source": [
    "new['km'].value_counts()"
   ]
  },
  {
   "cell_type": "code",
   "execution_count": 48,
   "metadata": {},
   "outputs": [
    {
     "data": {
      "text/plain": [
       "0    341\n",
       "1    179\n",
       "Name: actual, dtype: int64"
      ]
     },
     "execution_count": 48,
     "metadata": {},
     "output_type": "execute_result"
    }
   ],
   "source": [
    "new['actual'].value_counts()"
   ]
  },
  {
   "cell_type": "code",
   "execution_count": 49,
   "metadata": {},
   "outputs": [],
   "source": [
    "#z = {1 : 0 ,0 : 1}\n",
    "#new['km'] = new['km'].map(z)"
   ]
  },
  {
   "cell_type": "code",
   "execution_count": 50,
   "metadata": {},
   "outputs": [
    {
     "data": {
      "text/plain": [
       "0.8673076923076923"
      ]
     },
     "execution_count": 50,
     "metadata": {},
     "output_type": "execute_result"
    }
   ],
   "source": [
    "jaccard_similarity_score(new.actual,new.km)"
   ]
  },
  {
   "cell_type": "code",
   "execution_count": 51,
   "metadata": {},
   "outputs": [
    {
     "data": {
      "text/plain": [
       "0.825"
      ]
     },
     "execution_count": 51,
     "metadata": {},
     "output_type": "execute_result"
    }
   ],
   "source": [
    "jaccard_similarity_score(new.actual,new.pred)"
   ]
  },
  {
   "cell_type": "code",
   "execution_count": 52,
   "metadata": {},
   "outputs": [],
   "source": [
    "from sklearn.metrics.cluster import adjusted_rand_score"
   ]
  },
  {
   "cell_type": "code",
   "execution_count": 53,
   "metadata": {},
   "outputs": [
    {
     "data": {
      "text/plain": [
       "0.41594653491298494"
      ]
     },
     "execution_count": 53,
     "metadata": {},
     "output_type": "execute_result"
    }
   ],
   "source": [
    "adjusted_rand_score(new.actual,new.pred)"
   ]
  },
  {
   "cell_type": "code",
   "execution_count": 54,
   "metadata": {},
   "outputs": [
    {
     "data": {
      "text/plain": [
       "0.5241348740744305"
      ]
     },
     "execution_count": 54,
     "metadata": {},
     "output_type": "execute_result"
    }
   ],
   "source": [
    "adjusted_rand_score(new.actual,new.km)"
   ]
  },
  {
   "cell_type": "code",
   "execution_count": 55,
   "metadata": {},
   "outputs": [],
   "source": [
    "\n",
    "from sklearn.cluster import DBSCAN\n"
   ]
  },
  {
   "cell_type": "code",
   "execution_count": 73,
   "metadata": {},
   "outputs": [],
   "source": [
    "db = DBSCAN(eps=0.3, min_samples=2).fit(dataset)\n"
   ]
  },
  {
   "cell_type": "code",
   "execution_count": 74,
   "metadata": {},
   "outputs": [],
   "source": [
    "labelsdb = db.labels_\n"
   ]
  },
  {
   "cell_type": "code",
   "execution_count": 75,
   "metadata": {},
   "outputs": [],
   "source": [
    "new['dbscan'] = labelsdb"
   ]
  },
  {
   "cell_type": "code",
   "execution_count": 76,
   "metadata": {},
   "outputs": [
    {
     "data": {
      "text/plain": [
       "0     -1\n",
       "1     -1\n",
       "2     -1\n",
       "3     -1\n",
       "4     -1\n",
       "5     -1\n",
       "6     -1\n",
       "7     -1\n",
       "8     -1\n",
       "9     -1\n",
       "10    -1\n",
       "11    -1\n",
       "12    -1\n",
       "13    -1\n",
       "14    -1\n",
       "15    -1\n",
       "16    -1\n",
       "17    -1\n",
       "18    -1\n",
       "19    -1\n",
       "20    -1\n",
       "21    -1\n",
       "22    -1\n",
       "23    -1\n",
       "24    -1\n",
       "25    -1\n",
       "26    -1\n",
       "27    -1\n",
       "28    -1\n",
       "29    -1\n",
       "      ..\n",
       "490   -1\n",
       "491   -1\n",
       "492   -1\n",
       "493   -1\n",
       "494   -1\n",
       "495   -1\n",
       "496   -1\n",
       "497   -1\n",
       "498   -1\n",
       "499   -1\n",
       "500   -1\n",
       "501   -1\n",
       "502   -1\n",
       "503   -1\n",
       "504   -1\n",
       "505   -1\n",
       "506   -1\n",
       "507   -1\n",
       "508   -1\n",
       "509   -1\n",
       "510   -1\n",
       "511   -1\n",
       "512   -1\n",
       "513   -1\n",
       "514   -1\n",
       "515   -1\n",
       "516   -1\n",
       "517   -1\n",
       "518   -1\n",
       "519   -1\n",
       "Name: dbscan, Length: 520, dtype: int64"
      ]
     },
     "execution_count": 76,
     "metadata": {},
     "output_type": "execute_result"
    }
   ],
   "source": [
    "new['dbscan']"
   ]
  },
  {
   "cell_type": "code",
   "execution_count": null,
   "metadata": {},
   "outputs": [],
   "source": []
  }
 ],
 "metadata": {
  "kernelspec": {
   "display_name": "Python 3",
   "language": "python",
   "name": "python3"
  },
  "language_info": {
   "codemirror_mode": {
    "name": "ipython",
    "version": 3
   },
   "file_extension": ".py",
   "mimetype": "text/x-python",
   "name": "python",
   "nbconvert_exporter": "python",
   "pygments_lexer": "ipython3",
   "version": "3.6.5"
  }
 },
 "nbformat": 4,
 "nbformat_minor": 2
}
